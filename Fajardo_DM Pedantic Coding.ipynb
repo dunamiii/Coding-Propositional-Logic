{
 "cells": [
  {
   "cell_type": "markdown",
   "metadata": {},
   "source": [
    "**Given the English statement:**\n",
    "\n",
    "\n",
    "\n",
    "Ask for additional fries and drinks to the order if the customer would buy a Cheese Burger Deluxe, also if they want a Cheese Burger Deluxe throw in a Sundae. Always remember to print the receipt for every transaction.\n",
    "\n",
    "\n",
    "\n",
    "Formulate the well-formed formulas, the flowchart, and the corresponding code. You may paste your GitHub link or a Google drive link or upload a compressed file as your submission."
   ]
  },
  {
   "cell_type": "code",
   "execution_count": 31,
   "metadata": {},
   "outputs": [
    {
     "name": "stdout",
     "output_type": "stream",
     "text": [
      "Cheese burger deluxe\n"
     ]
    }
   ],
   "source": [
    "fries_and_drinks = False\n",
    "sundae = False\n",
    "both = False\n",
    "\n",
    "a=fries_and_drinks\n",
    "b=sundae\n",
    "c= both\n",
    "\n",
    "if (a):\n",
    "    print (\"Cheese burger deluxe w/ fries and drinks\")\n",
    "elif (b):\n",
    "    print (\"Cheese burger deluxe w/ sundae\")\n",
    "elif (c):\n",
    "    print (\"Cheese burger deluxe w/ fries, drinks and sundae\")\n",
    "else:\n",
    "    print (\"Cheese burger deluxe\")\n",
    "    \n",
    "    "
   ]
  },
  {
   "cell_type": "markdown",
   "metadata": {},
   "source": [
    "**Given the pseudocode:**\n",
    "\n",
    "\n",
    "\n",
    "def transfer_to_resource(reservoir, pool):\n",
    "\n",
    "    if pool <= 10 and reservoir > 20:\n",
    "    pool = reservoir\n",
    "\n",
    "    return pool\n",
    "\n",
    "\n",
    "Determine the WFFs and decode it to its original English statement. \n",
    "<br> Use the math formula in the text editor. WFFs that will not use the math formula feature will not be credited. Refrain from using (^ , v, ~ )."
   ]
  },
  {
   "cell_type": "code",
   "execution_count": 26,
   "metadata": {},
   "outputs": [],
   "source": [
    "def transfer_to_resource(reservoir, pool):\n",
    "    if pool <= 10 and reservoir > 20:\n",
    "        pool = reservoir\n",
    "    \n",
    "    return pool"
   ]
  },
  {
   "cell_type": "markdown",
   "metadata": {},
   "source": [
    "**English Statement**: \n",
    "Transfer to resource if the pool is less than or equal to 10 and reservoir is less than 20.\n"
   ]
  }
 ],
 "metadata": {
  "kernelspec": {
   "display_name": "Python 3",
   "language": "python",
   "name": "python3"
  },
  "language_info": {
   "codemirror_mode": {
    "name": "ipython",
    "version": 3
   },
   "file_extension": ".py",
   "mimetype": "text/x-python",
   "name": "python",
   "nbconvert_exporter": "python",
   "pygments_lexer": "ipython3",
   "version": "3.8.3"
  }
 },
 "nbformat": 4,
 "nbformat_minor": 4
}
